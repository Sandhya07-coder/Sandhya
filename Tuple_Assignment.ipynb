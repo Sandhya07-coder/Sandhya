{
 "cells": [
  {
   "cell_type": "markdown",
   "id": "23c42a62-8c7b-4a8f-bf07-09ae7f3db7fb",
   "metadata": {},
   "source": [
    "## Q1: Join Tuples if similar initial element"
   ]
  },
  {
   "cell_type": "markdown",
   "id": "3e785bf8-b5d6-4f68-94c3-3e95900a7440",
   "metadata": {},
   "source": [
    "## While working with Python tuples, we can have a problem in which we need to perform concatenation of records from the similarity of initial element. This problem can have applications in data domains such as Data Science."
   ]
  },
  {
   "cell_type": "code",
   "execution_count": null,
   "id": "d31155dd-8d11-4815-8657-681454463b5a",
   "metadata": {},
   "outputs": [],
   "source": [
    "For eg.\n",
    "Input  : test_list = [(5, 6), (5, 7), (5, 8), (6, 10), (7, 13)] \n",
    "Output : [(5, 6, 7, 8), (6, 10), (7, 13)] "
   ]
  },
  {
   "cell_type": "code",
   "execution_count": 3,
   "id": "8e46e78b-7830-4e78-b906-63c9914174c9",
   "metadata": {},
   "outputs": [
    {
     "name": "stdout",
     "output_type": "stream",
     "text": [
      "The original list is: \n",
      "[(5, 6), (5, 7), (5, 8), (6, 10), (7, 13)]\n",
      "The joined list is: \n",
      "[(5, 6, 7, 8), (6, 10), (7, 13)]\n"
     ]
    }
   ],
   "source": [
    "List = [(5, 6), (5, 7), (5, 8), (6, 10), (7, 13)] \n",
    "print(\"The original list is: \")\n",
    "print(List)\n",
    "\n",
    "result = []\n",
    "for sub in List:\n",
    "   if result and result[-1][0] == sub[0]:\n",
    "      result[-1].extend(sub[1:])\n",
    "   else:\n",
    "      result.append([ele for ele in sub])\n",
    "result = list(map(tuple, result))\n",
    "\n",
    "print(\"The joined list is: \" )\n",
    "print(result)"
   ]
  },
  {
   "cell_type": "markdown",
   "id": "bfb22304-e861-4c18-8cb5-1ef0e37d1a36",
   "metadata": {},
   "source": [
    "## Q2: Multiply Adjacent elements (both side) and take sum of right and lest side multiplication result.\n",
    " "
   ]
  },
  {
   "cell_type": "code",
   "execution_count": null,
   "id": "5d0603a7-9925-41a6-b409-628b4fb1e19f",
   "metadata": {},
   "outputs": [],
   "source": [
    "For eg.\n",
    "\n",
    "The original tuple : (1, 5, 7, 8, 10)\n",
    "Resultant tuple after multiplication : \n",
    "\n",
    "(1*5, 1*5+5*7, 7*5 + 7*8, 8*7 + 8*10, 10*8) -> (5, 40, 91, 136, 80)\n",
    "\n",
    "output-(5, 40, 91, 136, 80)\n"
   ]
  },
  {
   "cell_type": "code",
   "execution_count": 1,
   "id": "7dccc054-2b70-468b-b32d-baec8c24310a",
   "metadata": {},
   "outputs": [
    {
     "name": "stdout",
     "output_type": "stream",
     "text": [
      "The original tuple : (1, 5, 7, 8, 10)\n",
      "Resultant tuple after multiplication : (5, 35, 56, 80)\n"
     ]
    }
   ],
   "source": [
    "test_tup = (1, 5, 7, 8, 10) \n",
    " \n",
    "print(\"The original tuple : \" + str(test_tup)) \n",
    "\n",
    "res = tuple(i * j for i, j in zip(test_tup, test_tup[1:])) \n",
    "\n",
    "print(\"Resultant tuple after multiplication : \" + str(res)) \n"
   ]
  },
  {
   "cell_type": "markdown",
   "id": "626e2552-812b-4cfe-90ce-a5a06428f389",
   "metadata": {},
   "source": [
    "## Q3: Check is tuples are same or not?"
   ]
  },
  {
   "cell_type": "code",
   "execution_count": null,
   "id": "b3b422d4-e889-4760-b46b-00436784a665",
   "metadata": {},
   "outputs": [],
   "source": [
    "Two tuples would be same if both tuples have same element at same index\n",
    "\n",
    "t1 = (1,2,3,0)\n",
    "t2 = (0,1,2,3)\n",
    "\n",
    "t1 and t2 are not same"
   ]
  },
  {
   "cell_type": "code",
   "execution_count": 6,
   "id": "b78c0082-9ced-44bd-b320-0e5e3eac5f9f",
   "metadata": {},
   "outputs": [
    {
     "name": "stdout",
     "output_type": "stream",
     "text": [
      "the two tuple are not same\n"
     ]
    }
   ],
   "source": [
    "t1 = (1,2,3,0)\n",
    "t2 = (0,1,2,3)\n",
    "\n",
    "if t1 == t2:\n",
    "    print(\"the two tuples are same\")\n",
    "else:\n",
    "    print(\"the two tuple are not same\")\n",
    "    "
   ]
  },
  {
   "cell_type": "markdown",
   "id": "d95ab270-7a1d-41d7-8ef7-8fec0a17d9d2",
   "metadata": {},
   "source": [
    "## Q4: Count no of tuples, list and set from a list"
   ]
  },
  {
   "cell_type": "code",
   "execution_count": null,
   "id": "548e6f54-2dc8-45d0-b376-a3409fa0d59d",
   "metadata": {},
   "outputs": [],
   "source": [
    "list1 = [{'hi', 'bye'},{'Geeks', 'forGeeks'},('a', 'b'),['hi', 'bye'],['a', 'b']]\n",
    "\n",
    "\n",
    "Output:\n",
    "List-2\n",
    "Set-2\n",
    "Tuples-1"
   ]
  },
  {
   "cell_type": "code",
   "execution_count": 23,
   "id": "44565347-e069-4198-a9a4-272446c5a4a1",
   "metadata": {},
   "outputs": [
    {
     "name": "stdout",
     "output_type": "stream",
     "text": [
      "List-2\n",
      "Set-2\n",
      "Tuples-1\n"
     ]
    }
   ],
   "source": [
    "def count_types(lst):\n",
    "    tuple_count = 0\n",
    "    list_count = 0\n",
    "    set_count = 0\n",
    "\n",
    "    for element in lst:\n",
    "        if isinstance(element, tuple):\n",
    "            tuple_count += 1\n",
    "        elif isinstance(element, list):\n",
    "            list_count += 1\n",
    "        elif isinstance(element, set):\n",
    "            set_count += 1\n",
    "\n",
    "    return list_count, set_count, tuple_count\n",
    "\n",
    "list1 = [{'hi', 'bye'},{'Geeks', 'forGeeks'},('a', 'b'),['hi', 'bye'],['a', 'b']]\n",
    "list_count, set_count, tuple_count = count_types(list1)\n",
    "\n",
    "print(f\"List-{list_count}\")\n",
    "print(f\"Set-{set_count}\")\n",
    "print(f\"Tuples-{tuple_count}\")"
   ]
  },
  {
   "cell_type": "markdown",
   "id": "5da3e302-57d7-4b20-a174-46f42bfdef59",
   "metadata": {},
   "source": [
    "## Q5: Shortlist Students for a Job role\n",
    "Ask user to input students record and store in tuples for each record. Then Ask user to input three things he wants in the candidate- Primary Skill, Higher Education, Year of Graduation.\n",
    "\n",
    "Show every students record in form of tuples if matches all required criteria.\n",
    "\n",
    "It is assumed that there will be only one primry skill.\n",
    "\n",
    "If no such candidate found, print No such candidate"
   ]
  },
  {
   "cell_type": "code",
   "execution_count": null,
   "id": "c14d43ff-423e-4214-987d-cc7aab6dabec",
   "metadata": {},
   "outputs": [],
   "source": [
    "Input:\n",
    "\n",
    "Enter No of records- 2\n",
    "Enter Details of student-1\n",
    "Enter Student name- Manohar\n",
    "Enter Higher Education- B.Tech\n",
    "Enter Primary Skill- Python\n",
    "Enter Year of Graduation- 2022\n",
    "Enter Details of student-2\n",
    "Enter Student name- Ponian\n",
    "Enter Higher Education- B.Sc.\n",
    "Enter Primary Skill- C++\n",
    "Enter Year of Graduation- 2020\n",
    "\n",
    "Enter Job Role Requirement\n",
    "Enter Skill- Python\n",
    "Enter Higher Education- B.Tech\n",
    "Enter Year of Graduation- 2022\n",
    "\n",
    "\n",
    "Output\n",
    "\n",
    "('Manohar', 'B.tech', 'Python', '2022')"
   ]
  },
  {
   "cell_type": "code",
   "execution_count": 5,
   "id": "c485f2cd-731a-4719-998c-272091a4d721",
   "metadata": {},
   "outputs": [
    {
     "name": "stdout",
     "output_type": "stream",
     "text": [
      "{'python', '2022', 'manohar', 'B.Tech'}\n",
      "{'b.sc', 'c++', '2020', 'ponian'}\n",
      "{'job Role Requirement', '2022', 'Python', 'B.Tech'}\n"
     ]
    }
   ],
   "source": [
    "student1={\n",
    "    \"manohar\",\n",
    "     \"B.Tech\",\n",
    "     \"python\",\n",
    "     \"2022\"\n",
    "}\n",
    "\n",
    "student2={\n",
    "    \"ponian\",\n",
    "    \"b.sc\",\n",
    "    \"c++\",\n",
    "    \"2020\"\n",
    "}\n",
    "\n",
    "student3={\n",
    "    \"job Role Requirement\",\n",
    "    \"Python\",\n",
    "    \"B.Tech\",\n",
    "    \"2022\"\n",
    "}\n",
    "\n",
    "\n",
    "print(student1)\n",
    "print(student2)\n",
    "print(student3)"
   ]
  },
  {
   "cell_type": "code",
   "execution_count": null,
   "id": "d64ccaf1-42a6-4266-91a1-a8fabe435dfd",
   "metadata": {},
   "outputs": [],
   "source": []
  }
 ],
 "metadata": {
  "kernelspec": {
   "display_name": "Python 3 (ipykernel)",
   "language": "python",
   "name": "python3"
  },
  "language_info": {
   "codemirror_mode": {
    "name": "ipython",
    "version": 3
   },
   "file_extension": ".py",
   "mimetype": "text/x-python",
   "name": "python",
   "nbconvert_exporter": "python",
   "pygments_lexer": "ipython3",
   "version": "3.11.7"
  }
 },
 "nbformat": 4,
 "nbformat_minor": 5
}
