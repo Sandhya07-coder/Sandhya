{
 "cells": [
  {
   "cell_type": "markdown",
   "id": "1b5db23a-9074-491b-a90b-310972079547",
   "metadata": {},
   "source": [
    "## Q.1 Create 2 lists from a given list where 1st list will contain all the odd numbers from the original list and the 2nd one will contain all the even numbers\n",
    "L = [1,2,3,4,5,6]\n"
   ]
  },
  {
   "cell_type": "code",
   "execution_count": 19,
   "id": "c7fcb274-67bb-4cd8-b7a2-02b0a0d72ece",
   "metadata": {},
   "outputs": [
    {
     "name": "stdout",
     "output_type": "stream",
     "text": [
      "list1:     [1, 2, 3, 4, 5, 6]\n",
      "listEven:  [2, 4, 6]\n",
      "listOdd:   [1, 3, 5]\n"
     ]
    }
   ],
   "source": [
    "# declare and assign list1\n",
    "list1 = [1, 2, 3, 4, 5, 6]\n",
    "\n",
    "listOdd = []\n",
    "listEven = []\n",
    "\n",
    "for num in list1:\n",
    "    if num % 2 == 0:\n",
    "        listEven.append(num)\n",
    "    else:\n",
    "        listOdd.append(num)\n",
    "\n",
    "# print lists\n",
    "print(\"list1:    \", list1)\n",
    "print(\"listEven: \", listEven)\n",
    "print(\"listOdd:  \", listOdd)\n"
   ]
  },
  {
   "cell_type": "markdown",
   "id": "edb1e632-bb57-4fa5-ac04-1b013ef28190",
   "metadata": {},
   "source": [
    "## Q.2 How to take list as input from user"
   ]
  },
  {
   "cell_type": "code",
   "execution_count": 7,
   "id": "f300f09f-8de6-4981-8c69-a004c2553b5e",
   "metadata": {},
   "outputs": [
    {
     "name": "stdin",
     "output_type": "stream",
     "text": [
      "Enter number of elements :  6\n",
      " 1\n",
      " 2\n",
      " 3\n",
      " 4\n",
      " 5\n",
      " 6\n"
     ]
    },
    {
     "name": "stdout",
     "output_type": "stream",
     "text": [
      "[1, 2, 3, 4, 5, 6, 1, 2, 3, 4, 5, 6]\n"
     ]
    }
   ],
   "source": [
    "# creating an empty list\n",
    "lst = [1,2,3,4,5,6]\n",
    "\n",
    "n = int(input(\"Enter number of elements : \"))\n",
    "\n",
    "for i in range(0, n):\n",
    "\tele = int(input())\n",
    "    \n",
    "\tlst.append(ele) \n",
    "\n",
    "print(lst)\n"
   ]
  },
  {
   "cell_type": "markdown",
   "id": "fa5acc72-6348-4678-94d6-b294e28276aa",
   "metadata": {},
   "source": [
    "## Q.3 Write a program to merge 2 list without using the + operator\n",
    "#L1 = [1,2,3,4]\n",
    "#L2 = [5,6,7,8]"
   ]
  },
  {
   "cell_type": "code",
   "execution_count": 9,
   "id": "763684f4-5e8d-4211-a4d0-f53711bef066",
   "metadata": {},
   "outputs": [
    {
     "data": {
      "text/plain": [
       "[1, 2, 3, 4, 5, 6, 7, 8]"
      ]
     },
     "execution_count": 9,
     "metadata": {},
     "output_type": "execute_result"
    }
   ],
   "source": [
    "L1 = [1,2,3,4]\n",
    "L1.extend([5,6,7,8])\n",
    "L1"
   ]
  },
  {
   "cell_type": "markdown",
   "id": "02746b1a-41f0-48f9-b02c-53cfdf5be276",
   "metadata": {},
   "source": [
    "## Q.4 Write a program to replace an item with a different item if found in the list L = [1,2,3,4,5,3]\n",
    "# replace 3 with 300"
   ]
  },
  {
   "cell_type": "code",
   "execution_count": 12,
   "id": "ae47a34e-48b8-4683-a58d-7c38625b57d1",
   "metadata": {},
   "outputs": [
    {
     "data": {
      "text/plain": [
       "[1, 2, 3, 300, 300, 3]"
      ]
     },
     "execution_count": 12,
     "metadata": {},
     "output_type": "execute_result"
    }
   ],
   "source": []
  },
  {
   "cell_type": "markdown",
   "id": "2b9f8146-0640-4021-9a06-1ff2ba21325f",
   "metadata": {},
   "source": [
    "## Q.5 Write a program that can convert a 2D list to 1D list"
   ]
  },
  {
   "cell_type": "code",
   "execution_count": 14,
   "id": "1fc2ff63-0ab3-459b-882f-b76d6b809060",
   "metadata": {},
   "outputs": [
    {
     "name": "stdout",
     "output_type": "stream",
     "text": [
      "[1, 2, 3, 4, [5, 6]]\n",
      "[1, 2, 3, 4, 5]\n"
     ]
    }
   ],
   "source": [
    "L1 = [1,2,3,4,[5,6]]\n",
    "print(L1)\n",
    "\n",
    "L= [1,2,3,4,5]\n",
    "print(L)\n"
   ]
  },
  {
   "cell_type": "markdown",
   "id": "9609cb6a-fdaf-46f1-b53b-28d60fcbb718",
   "metadata": {},
   "source": [
    "## Q.6 Write a program to remove duplicate items from a list\n",
    "\n",
    "L = [1,2,1,2,3,4,5,3,4]"
   ]
  },
  {
   "cell_type": "code",
   "execution_count": 15,
   "id": "c3379fc2-19e4-4a3e-ac82-3d39597d7fa9",
   "metadata": {},
   "outputs": [
    {
     "name": "stdout",
     "output_type": "stream",
     "text": [
      "The original list is : [1, 2, 1, 2, 3, 4, 5, 3, 4]\n",
      "The list after removing duplicates : [1, 2, 3, 4, 5]\n"
     ]
    }
   ],
   "source": [
    "# initializing list\n",
    "test_list = L = [1, 2, 1, 2, 3, 4, 5, 3, 4]\n",
    "print (\"The original list is : \"\n",
    "        + str(test_list))\n",
    "\n",
    "test_list = list(set(test_list))\n",
    "\n",
    "print (\"The list after removing duplicates : \"\n",
    "        + str(test_list))\n"
   ]
  },
  {
   "cell_type": "markdown",
   "id": "f190f20a-5849-4939-8502-c89789c4284c",
   "metadata": {},
   "source": [
    "## Q.7 Write a program to check if a list is in ascending order or not"
   ]
  },
  {
   "cell_type": "code",
   "execution_count": 18,
   "id": "fc448182-8ce0-4280-8509-a300f3f4b358",
   "metadata": {},
   "outputs": [
    {
     "data": {
      "text/plain": [
       "[1, 2, 3, 4, 5, 6, 7, 8, 9]"
      ]
     },
     "execution_count": 18,
     "metadata": {},
     "output_type": "execute_result"
    }
   ],
   "source": [
    "L = [9,3,4,6,2,1,8,5,7]\n",
    "L.sort()                  \n",
    "L                    "
   ]
  },
  {
   "cell_type": "code",
   "execution_count": null,
   "id": "853707c4-4a29-452c-880d-f58ac156a0ee",
   "metadata": {},
   "outputs": [],
   "source": []
  }
 ],
 "metadata": {
  "kernelspec": {
   "display_name": "Python 3 (ipykernel)",
   "language": "python",
   "name": "python3"
  },
  "language_info": {
   "codemirror_mode": {
    "name": "ipython",
    "version": 3
   },
   "file_extension": ".py",
   "mimetype": "text/x-python",
   "name": "python",
   "nbconvert_exporter": "python",
   "pygments_lexer": "ipython3",
   "version": "3.11.7"
  }
 },
 "nbformat": 4,
 "nbformat_minor": 5
}
