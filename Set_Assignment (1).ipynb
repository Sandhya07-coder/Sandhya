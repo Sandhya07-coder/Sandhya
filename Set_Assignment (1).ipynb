{
 "cells": [
  {
   "cell_type": "markdown",
   "id": "afb9b3ad-cb7c-4c6b-806b-3064fc8ffa21",
   "metadata": {},
   "source": [
    "## Q1: Write a program to find set of common elements in three lists using sets."
   ]
  },
  {
   "cell_type": "code",
   "execution_count": null,
   "id": "07bb2f83-a100-4501-ae26-76321f430e88",
   "metadata": {},
   "outputs": [],
   "source": [
    "Input : ar1 = [1, 5, 10, 20, 40, 80]\n",
    "        ar2 = [6, 7, 20, 80, 100]\n",
    "        ar3 = [3, 4, 15, 20, 30, 70, 80, 120]\n",
    "\n",
    "Output : [80, 20]"
   ]
  },
  {
   "cell_type": "code",
   "execution_count": 2,
   "id": "b91162c7-7a2d-43e7-9e46-abc3cc962677",
   "metadata": {},
   "outputs": [
    {
     "name": "stdout",
     "output_type": "stream",
     "text": [
      "[80, 20]\n"
     ]
    }
   ],
   "source": [
    "def IntersecOfSets(arr1, arr2, arr3):\n",
    "\ts1 = set(arr1)\n",
    "\ts2 = set(arr2)\n",
    "\ts3 = set(arr3)\n",
    "\t\n",
    "\tset1 = s1.intersection(s2)\t\n",
    "\t\n",
    "\tresult_set = set1.intersection(s3)\n",
    "\t\n",
    "\tfinal_list = list(result_set)\n",
    "\tprint(final_list)\n",
    "\n",
    "if __name__ == '__main__' :\n",
    "\t\n",
    "\tarr1 = [1, 5, 10, 20, 40, 80, 100]\n",
    "\t\n",
    "\tarr2 = [6, 7, 20, 80, 100]\n",
    "\t\n",
    "\tarr3 = [3, 4, 15, 20, 30, 70, 80, 120]\n",
    "\t\n",
    "\tIntersecOfSets(arr1, arr2, arr3)\n"
   ]
  },
  {
   "cell_type": "markdown",
   "id": "a11768a5-a202-4b4e-b004-28034bfaf84c",
   "metadata": {},
   "source": [
    "## Q2: Write a program to count unique number of vowels using sets in a given string. Lowercase and upercase vowels will be taken as different."
   ]
  },
  {
   "cell_type": "code",
   "execution_count": null,
   "id": "125c4db9-408b-40b0-b432-7943a7a9671d",
   "metadata": {},
   "outputs": [],
   "source": [
    "Input:\n",
    "\n",
    "Str1 = \"hands-on data science mentorship progrAm with live classes at affordable fee only on CampusX\"\n",
    "Output:\n",
    "\n",
    "No of unique vowels-6"
   ]
  },
  {
   "cell_type": "code",
   "execution_count": 11,
   "id": "6f1855f6-b576-45be-9279-4847b9224acf",
   "metadata": {},
   "outputs": [
    {
     "name": "stdout",
     "output_type": "stream",
     "text": [
      "28\n"
     ]
    }
   ],
   "source": [
    "string = \"hands-on data science mentorship progrAm with live classes at affordable fee only on CampusX\"\n",
    "count = sum(string.count(vowel) for vowel in vowels)\n",
    "print(count)\n"
   ]
  },
  {
   "cell_type": "markdown",
   "id": "d798b026-6eaa-4330-99dd-218bda6c0b8a",
   "metadata": {},
   "source": [
    "## Q3: Write a program to Check if a given string is binary string of or not.\n",
    "A string is said to be binary if it's consists of only two unique characters.\n",
    "\n",
    "Take string input from user."
   ]
  },
  {
   "cell_type": "code",
   "execution_count": null,
   "id": "61d7b690-c941-4522-8b0a-132f737a7a26",
   "metadata": {},
   "outputs": [],
   "source": [
    "Input: str = \"01010101010\"\n",
    "Output: Yes\n",
    "\n",
    "Input: str = \"1222211\"\n",
    "Output: Yes\n",
    "\n",
    "Input: str = \"Campusx\"\n",
    "Output: No"
   ]
  },
  {
   "cell_type": "code",
   "execution_count": 30,
   "id": "33dcd61f-6ce5-46e1-a522-3b298fd65724",
   "metadata": {},
   "outputs": [
    {
     "name": "stdout",
     "output_type": "stream",
     "text": [
      "Yes\n",
      "Yes\n",
      "No\n"
     ]
    }
   ],
   "source": [
    "# 1st example\n",
    "def check(string):\n",
    "\n",
    "    p = set(string)\n",
    "\n",
    "    s = {'0', '1'}\n",
    "\n",
    "    if s == p or p == {'0'} or p == {'1'}:\n",
    "        print(\"Yes\")\n",
    "    else:\n",
    "        print(\"No\")\n",
    "\n",
    "if __name__ == \"__main__\":\n",
    "    string = \"01010101010\"\n",
    "    check(string)\n",
    "\n",
    "\n",
    "#2nd example\n",
    "def check(string):\n",
    "\n",
    "    p = set(string)\n",
    "\n",
    "    s = {'1', '2'}\n",
    "\n",
    "    if s == p or p == {'1'} or p == {'2'}:\n",
    "        print(\"Yes\")\n",
    "    else:\n",
    "        print(\"No\")\n",
    "\n",
    "if __name__ == \"__main__\":\n",
    "    string = \"1222211\"\n",
    "    check(string)\n",
    "\n",
    "\n",
    "# 3rd example\n",
    "def check(string):\n",
    "\n",
    "    p = set(string)\n",
    "\n",
    "    s = {'0', '1'}\n",
    "\n",
    "    if s == p or p == {'0'} or p == {'1'}:\n",
    "        print(\"Yes\")\n",
    "    else:\n",
    "        print(\"No\")\n",
    "\n",
    "if __name__ == \"__main__\":\n",
    "    string = \"Campusx\"\n",
    "    check(string)"
   ]
  },
  {
   "cell_type": "markdown",
   "id": "1af09454-9220-4120-89fb-bde9c40c2d4b",
   "metadata": {},
   "source": [
    "## Q4: find union of n arrays."
   ]
  },
  {
   "cell_type": "code",
   "execution_count": null,
   "id": "c9110355-16b0-4ab5-b185-abbb5f90e284",
   "metadata": {},
   "outputs": [],
   "source": [
    "Example 1:\n",
    "\n",
    "Input:\n",
    "\n",
    "[[1, 2, 2, 4, 3, 6],\n",
    " [5, 1, 3, 4],\n",
    " [9, 5, 7, 1],\n",
    " [2, 4, 1, 3]]\n",
    "\n",
    "Output:\n",
    "[1, 2, 3, 4, 5, 6, 7, 9]"
   ]
  },
  {
   "cell_type": "code",
   "execution_count": 43,
   "id": "f027b8fc-69a3-43d1-8ddd-702b5dfc69ae",
   "metadata": {},
   "outputs": [
    {
     "name": "stdout",
     "output_type": "stream",
     "text": [
      "[1, 2, 3, 4, 5, 6, 7, 9]\n"
     ]
    }
   ],
   "source": [
    "array = [[1, 2, 2, 4, 3, 6],\n",
    "         [5, 1, 3, 4],\n",
    "         [9, 5, 7, 1],\n",
    "         [2, 4, 1, 3]]\n",
    "\n",
    "result = set()\n",
    "for array in array:\n",
    "    result.update(array)\n",
    "\n",
    "print(list(result))"
   ]
  },
  {
   "cell_type": "markdown",
   "id": "96f5879d-de7b-40de-956a-4225e8e8f09a",
   "metadata": {},
   "source": [
    "## Q5: Intersection of two lists. Intersection of two list means we need to take all those elements which are common to both of the initial lists and store them into another list. Only use using list-comprehension."
   ]
  },
  {
   "cell_type": "code",
   "execution_count": null,
   "id": "bb539aa1-6674-4085-8689-3942115c213d",
   "metadata": {},
   "outputs": [],
   "source": [
    "Example 1:\n",
    "\n",
    "Input:\n",
    "\n",
    "lst1 = {15, 9, 10, 56, 23, 78, 5, 4, 9}\n",
    "lst2 = {9, 4, 5, 36, 47, 26, 10, 45, 87}\n",
    "Output:\n",
    "\n",
    "[9, 10, 4, 5]\n",
    "\n",
    "Example 2:\n",
    "\n",
    "Input:\n",
    "\n",
    "lst1 = {4, 9, 1, 17, 11, 26, 28, 54, 69}\n",
    "lst2 = {9, 9, 74, 21, 45, 11, 63, 28, 26}\n",
    "Output:\n",
    "\n",
    "[9, 11, 26, 28]"
   ]
  },
  {
   "cell_type": "code",
   "execution_count": 37,
   "id": "1c9c4601-d1ba-4569-a0b2-462b31f1b758",
   "metadata": {},
   "outputs": [
    {
     "name": "stdout",
     "output_type": "stream",
     "text": [
      "[9, 10, 4, 5]\n"
     ]
    }
   ],
   "source": [
    "#Example 1:\n",
    "\n",
    "def intersection(lst1, lst2):\n",
    "    return list(set(lst1) & set (lst2))\n",
    "    \n",
    "lst1 = {15, 9, 10, 56, 23, 78, 5, 4, 9}\n",
    "lst2 = {9, 4, 5, 36, 47, 26, 10, 45, 87}\n",
    "\n",
    "print(intersection(lst1, lst2))"
   ]
  },
  {
   "cell_type": "code",
   "execution_count": 38,
   "id": "135c50e5-a457-43bb-a447-31b5874fd1bf",
   "metadata": {},
   "outputs": [
    {
     "name": "stdout",
     "output_type": "stream",
     "text": [
      "[9, 26, 11, 28]\n"
     ]
    }
   ],
   "source": [
    "#Example 2:\n",
    "\n",
    "def intersection(lst1, lst2):\n",
    "    return list(set(lst1) & set (lst2))\n",
    "    \n",
    "lst1 = {4, 9, 1, 17, 11, 26, 28, 54, 69}\n",
    "lst2 = {9, 9, 74, 21, 45, 11, 63, 28, 26}\n",
    "\n",
    "print(intersection(lst1, lst2))"
   ]
  },
  {
   "cell_type": "code",
   "execution_count": null,
   "id": "236beeb0-206c-415b-aded-4a1b5d81c91a",
   "metadata": {},
   "outputs": [],
   "source": []
  }
 ],
 "metadata": {
  "kernelspec": {
   "display_name": "Python 3 (ipykernel)",
   "language": "python",
   "name": "python3"
  },
  "language_info": {
   "codemirror_mode": {
    "name": "ipython",
    "version": 3
   },
   "file_extension": ".py",
   "mimetype": "text/x-python",
   "name": "python",
   "nbconvert_exporter": "python",
   "pygments_lexer": "ipython3",
   "version": "3.11.7"
  }
 },
 "nbformat": 4,
 "nbformat_minor": 5
}
