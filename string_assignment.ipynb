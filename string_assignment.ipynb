{
 "cells": [
  {
   "cell_type": "markdown",
   "id": "6feded3d-264e-443f-a76e-a49ecadf9651",
   "metadata": {},
   "source": [
    "# 1) Find the length of given string (given by user)without using len() function  "
   ]
  },
  {
   "cell_type": "code",
   "execution_count": 9,
   "id": "5e0a1fa1-0bc0-4641-ad57-77990254e434",
   "metadata": {},
   "outputs": [
    {
     "name": "stdin",
     "output_type": "stream",
     "text": [
      "enter your string hello world\n"
     ]
    },
    {
     "name": "stdout",
     "output_type": "stream",
     "text": [
      "length of string is  11\n"
     ]
    }
   ],
   "source": [
    "str1=input(\"enter your string\")\n",
    "\n",
    "count = 0\n",
    "for i in str1:\n",
    "    count +=1\n",
    "print(\"length of string is \",count)    "
   ]
  },
  {
   "cell_type": "markdown",
   "id": "60345ad0-2ffb-4471-a339-d33613fcc335",
   "metadata": {},
   "source": [
    "# 2) Extract userid from given mail i'd eg if the mail is sandhyalagade07@gmail.com them user name should be \"sandhyalagade07\""
   ]
  },
  {
   "cell_type": "code",
   "execution_count": 11,
   "id": "dcdc0bd7-d353-4687-a6dd-6f23aaa77779",
   "metadata": {},
   "outputs": [
    {
     "name": "stdin",
     "output_type": "stream",
     "text": [
      "enter your mail_id sandhyalagade07@gmail.com\n"
     ]
    },
    {
     "name": "stdout",
     "output_type": "stream",
     "text": [
      "sandhyalagade\n"
     ]
    }
   ],
   "source": [
    "mail_id = input(\"enter your mail_id\")\n",
    "poss = mail_id.index(\"0\")\n",
    "print(mail_id[0:poss])\n"
   ]
  },
  {
   "cell_type": "markdown",
   "id": "756a8d7f-cf22-4fbd-8171-2fe6979705cb",
   "metadata": {},
   "source": [
    "# 3) Count the frequence of perticular chararcter in provide string eg \"hello how are you\" is the string,the frequency of \"h\" in this string is 2 without using count function"
   ]
  },
  {
   "cell_type": "code",
   "execution_count": 15,
   "id": "4a667b4f-9d9d-4748-ab69-c7b6b7eda895",
   "metadata": {},
   "outputs": [
    {
     "name": "stdin",
     "output_type": "stream",
     "text": [
      "enter your string hello how are you\n",
      "what would like to search h\n"
     ]
    },
    {
     "name": "stdout",
     "output_type": "stream",
     "text": [
      "frequence of your char 2\n"
     ]
    }
   ],
   "source": [
    "s=input(\"enter your string\")\n",
    "term=input(\"what would like to search\")\n",
    "\n",
    "counter=0\n",
    "for i in s:\n",
    "  if i==term:\n",
    "    counter+=1\n",
    "print(\"frequence of your char\",counter)\n"
   ]
  },
  {
   "cell_type": "markdown",
   "id": "f2ca6466-6591-4772-9792-46870ef151a6",
   "metadata": {},
   "source": [
    "#  4) write a program which can remove a perticular character from string"
   ]
  },
  {
   "cell_type": "code",
   "execution_count": 19,
   "id": "4d717308-5896-48eb-85d5-107638da74cd",
   "metadata": {},
   "outputs": [
    {
     "name": "stdin",
     "output_type": "stream",
     "text": [
      "enter your string hello how are you \n",
      " what you want to remove e\n"
     ]
    },
    {
     "name": "stdout",
     "output_type": "stream",
     "text": [
      "hllo how ar you \n"
     ]
    }
   ],
   "source": [
    "s = input(\"enter your string\")\n",
    "term = input(\" what you want to remove\")\n",
    "\n",
    "result = \"\"\n",
    "\n",
    "for i in s:\n",
    "      if i != term:\n",
    "        result = result + i\n",
    "print(result)"
   ]
  },
  {
   "cell_type": "markdown",
   "id": "4e3ec47a-2f55-4909-beb6-a0b4542686d0",
   "metadata": {},
   "source": [
    "# 5) write a program that can cheak wether a given string is palindrome or not\n",
    "\n",
    "#abba\n",
    "#malayalam"
   ]
  },
  {
   "cell_type": "code",
   "execution_count": 2,
   "id": "8f39e484-4f74-43c7-93aa-177499967b27",
   "metadata": {},
   "outputs": [
    {
     "name": "stdin",
     "output_type": "stream",
     "text": [
      "enter your string malayalam\n"
     ]
    },
    {
     "name": "stdout",
     "output_type": "stream",
     "text": [
      "malayalam is a palindrome\n"
     ]
    }
   ],
   "source": [
    "str=(input(\"enter your string\"))\n",
    "if str==str[::-1]:\n",
    "   print(str+\" is a palindrome\")\n",
    "else:\n",
    "    print(str+\" is not a palindrome\")\n",
    "   \n",
    "   "
   ]
  },
  {
   "cell_type": "markdown",
   "id": "0300dddb-f22f-46da-9aa7-a810c0bbe4c4",
   "metadata": {},
   "source": [
    "# 6) write a program to count the number of words in a string without split()"
   ]
  },
  {
   "cell_type": "code",
   "execution_count": 23,
   "id": "3d160d98-c9e0-4657-aef4-13af73ae1795",
   "metadata": {},
   "outputs": [
    {
     "name": "stdout",
     "output_type": "stream",
     "text": [
      "my name is sandhya\n",
      "3\n"
     ]
    }
   ],
   "source": [
    "s=\"my name is sandhya\"\n",
    "\n",
    "def countW(s):\n",
    "    print(s)\n",
    "    word=0\n",
    "    for i in s:\n",
    "        if i==\" \":\n",
    "            word=word+1\n",
    "    print(word)\n",
    "countW(s)\n"
   ]
  },
  {
   "cell_type": "code",
   "execution_count": null,
   "id": "8607e205-5b3e-46c8-bdcb-a0f0023df206",
   "metadata": {},
   "outputs": [],
   "source": [
    "# 7)write a python program to convert a string to title case without using the title()"
   ]
  },
  {
   "cell_type": "code",
   "execution_count": 20,
   "id": "08975e37-7835-4092-9fa0-b706c2c7a789",
   "metadata": {},
   "outputs": [
    {
     "name": "stdout",
     "output_type": "stream",
     "text": [
      "Hello world\n"
     ]
    }
   ],
   "source": [
    "s = \"hello world\"\n",
    "print(s.capitalize())"
   ]
  },
  {
   "cell_type": "code",
   "execution_count": null,
   "id": "0237b4d1-4c24-4eb9-89c9-f3c6bba89fbf",
   "metadata": {},
   "outputs": [],
   "source": []
  },
  {
   "cell_type": "code",
   "execution_count": null,
   "id": "d4894cdb-38d2-4b21-a7f0-bd4c5a825da1",
   "metadata": {},
   "outputs": [],
   "source": []
  }
 ],
 "metadata": {
  "kernelspec": {
   "display_name": "Python 3 (ipykernel)",
   "language": "python",
   "name": "python3"
  },
  "language_info": {
   "codemirror_mode": {
    "name": "ipython",
    "version": 3
   },
   "file_extension": ".py",
   "mimetype": "text/x-python",
   "name": "python",
   "nbconvert_exporter": "python",
   "pygments_lexer": "ipython3",
   "version": "3.11.7"
  }
 },
 "nbformat": 4,
 "nbformat_minor": 5
}
